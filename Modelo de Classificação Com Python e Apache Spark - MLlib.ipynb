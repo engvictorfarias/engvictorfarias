{
 "cells": [
  {
   "cell_type": "markdown",
   "id": "4bf46f8e",
   "metadata": {},
   "source": [
    "# <p style=\"background-color:#714e86;font-family:Segoe UI Semibold;color:#FFF9ED;font-size:120%;text-align:center;border-radius:5px 5px;\">CLASSIFICAÇÃO BINÁRIA COM PYTHON E APACHE SPARK </p>\n",
    "\n",
    "### Breast Cancer Wisconsin: Previsão de Câncer de Mama  [dataset](https://www.kaggle.com/datasets/uciml/breast-cancer-wisconsin-data)\n",
    "\n",
    "Objetivo: criar um modelo preditivo que, dadas as características de exames de uma paciente, será capaz de classificar o tumor como Maligno ou Benigno, a partir do aprendizado obtido no treinamento do algoritmo."
   ]
  },
  {
   "cell_type": "markdown",
   "id": "8eef5bc8",
   "metadata": {},
   "source": [
    "# <p style=\"background-color:#714e86;font-family:Segoe UI Semibold;color:#FFF9ED;font-size:150%;text-align:center;border-radius:10px 10px;\">SUMÁRIO</p>\n",
    " \n",
    "* [1. ABORDAGEM](#1)\n",
    "    \n",
    "* [2. IMPORTAÇÃO BIBLIOTECAS](#2)\n",
    "    \n",
    "* [3. SPARK CONTEXT, SESSION E CARGA DOS DADOS](#3)\n",
    "    \n",
    "* [4. PRÉ-PROCESSAMENTO](#4)   \n",
    "\n",
    " - Label Encoding (String Indexer)\n",
    " - Standard Scaler (Padronização)\n",
    " - Vector Assembler\n",
    " - Split dados treino e teste\n",
    " \n",
    "* [5. MODELOS](#5)\n",
    " - Logistic Regression (Avaliação da Acurácia e Confusion Matrix)\n",
    " - Decision Tree Classifier (Avaliação da Acurácia e Confusion Matrix)\n",
    " - Random Forest Classifier (Avaliação da Acurácia e Confusion Matrix)\n",
    "* [6. PIPELINE: WORKFLOW (EM ANDAMENTO)](#6)"
   ]
  },
  {
   "cell_type": "markdown",
   "id": "6408eedf",
   "metadata": {},
   "source": [
    "<a id=\"1\"></a>\n",
    "# <p style=\"background-color:#714e86;font-family:Segoe UI Semibold;color:#FFF9ED;font-size:150%;text-align:center;border-radius:10px 10px;\">1. ABORDAGEM</p>\n"
   ]
  },
  {
   "cell_type": "markdown",
   "id": "58736ae1",
   "metadata": {},
   "source": [
    " Semelhante ao notebook [Classificação Binária com Python](https://www.kaggle.com/code/engvictorfarias/classifica-o-breast-cancer-winsconsin-python-ml), serão criados diferentes modelos de classificação (aprendizado supervisionado) com diferentes técnicas de pré-processamento e ajustes, a fim de encontrar aquele com melhor precisão, mas, desta vez, utilizando o Apache Spark para realizar o processamento.\n",
    "\n",
    " A partir de dados históricos de pacientes, o algoritmo 'aprenderá' e conseguirá realizar previsões para novos pacientes indicando se o tumor em análise é Benigno ou Maligno. Trata-se de um classificador binário."
   ]
  },
  {
   "cell_type": "markdown",
   "id": "229439b4",
   "metadata": {},
   "source": [
    "<a id=\"1\"></a>\n",
    "# <p style=\"background-color:#714e86;font-family:Segoe UI Semibold;color:#FFF9ED;font-size:150%;text-align:center;border-radius:10px 10px;\">2. IMPORTAÇÃO BIBLIOTECAS</p>"
   ]
  },
  {
   "cell_type": "code",
   "execution_count": 1,
   "id": "1ec25780",
   "metadata": {},
   "outputs": [],
   "source": [
    "# Importa o findspark e inicializa\n",
    "\n",
    "import findspark\n",
    "findspark.init()"
   ]
  },
  {
   "cell_type": "code",
   "execution_count": 56,
   "id": "d1247e1c",
   "metadata": {},
   "outputs": [],
   "source": [
    "import pyspark\n",
    "from pyspark import SparkContext\n",
    "from pyspark.sql import SparkSession\n",
    "from pyspark.ml import Pipeline\n",
    "from pyspark.ml.linalg import Vectors\n",
    "from pyspark.ml.feature import VectorAssembler, StandardScaler\n",
    "from pyspark.sql import Row\n",
    "from pyspark.sql.functions import *\n",
    "from pyspark.ml.feature import PCA\n",
    "from pyspark.ml.feature import StringIndexer # Label Encoding\n",
    "from pyspark.ml.classification import LogisticRegression, DecisionTreeClassifier, RandomForestClassifier, NaiveBayes\n",
    "from pyspark.ml.evaluation import BinaryClassificationEvaluator, MulticlassClassificationEvaluator"
   ]
  },
  {
   "cell_type": "markdown",
   "id": "b26568c1",
   "metadata": {},
   "source": [
    "<a id=\"1\"></a>\n",
    "# <p style=\"background-color:#714e86;font-family:Segoe UI Semibold;color:#FFF9ED;font-size:150%;text-align:center;border-radius:10px 10px;\">3. SPARK CONTEXT, SESSION E CARGA DOS DADOS</p>"
   ]
  },
  {
   "cell_type": "code",
   "execution_count": 3,
   "id": "485daa82",
   "metadata": {},
   "outputs": [],
   "source": [
    "sc = SparkContext(appName = 'ModeloClassificacao')"
   ]
  },
  {
   "cell_type": "code",
   "execution_count": 4,
   "id": "38434580",
   "metadata": {},
   "outputs": [],
   "source": [
    "# Spark Session - utilizado para trabalhar com DataFrames\n",
    "# https://spark.apache.org/docs/latest/api/python/reference/pyspark.sql/api/pyspark.sql.SparkSession.html\n",
    "\n",
    "spSession = SparkSession.builder.master('local').getOrCreate()"
   ]
  },
  {
   "cell_type": "markdown",
   "id": "e4e383cc",
   "metadata": {},
   "source": [
    "### Carregando os Dados"
   ]
  },
  {
   "cell_type": "code",
   "execution_count": 5,
   "id": "839ec0a5",
   "metadata": {},
   "outputs": [],
   "source": [
    "# DataFrame Spark\n",
    "\n",
    "SparkDF = spSession.read.csv('C:/Users/vmfb9/Downloads/dataset-winsconsin/data.csv', header = True, inferSchema = True) "
   ]
  },
  {
   "cell_type": "code",
   "execution_count": 6,
   "id": "72d80bd1",
   "metadata": {},
   "outputs": [
    {
     "data": {
      "text/plain": [
       "pyspark.sql.dataframe.DataFrame"
      ]
     },
     "execution_count": 6,
     "metadata": {},
     "output_type": "execute_result"
    }
   ],
   "source": [
    "# Tipo\n",
    "\n",
    "type(SparkDF) # pyspark.sql.dataframe.DataFrame"
   ]
  },
  {
   "cell_type": "code",
   "execution_count": 7,
   "id": "b3c5bb5c",
   "metadata": {},
   "outputs": [
    {
     "name": "stdout",
     "output_type": "stream",
     "text": [
      "root\n",
      " |-- id: integer (nullable = true)\n",
      " |-- diagnosis: string (nullable = true)\n",
      " |-- radius_mean: double (nullable = true)\n",
      " |-- texture_mean: double (nullable = true)\n",
      " |-- perimeter_mean: double (nullable = true)\n",
      " |-- area_mean: double (nullable = true)\n",
      " |-- smoothness_mean: double (nullable = true)\n",
      " |-- compactness_mean: double (nullable = true)\n",
      " |-- concavity_mean: double (nullable = true)\n",
      " |-- concave points_mean: double (nullable = true)\n",
      " |-- symmetry_mean: double (nullable = true)\n",
      " |-- fractal_dimension_mean: double (nullable = true)\n",
      " |-- radius_se: double (nullable = true)\n",
      " |-- texture_se: double (nullable = true)\n",
      " |-- perimeter_se: double (nullable = true)\n",
      " |-- area_se: double (nullable = true)\n",
      " |-- smoothness_se: double (nullable = true)\n",
      " |-- compactness_se: double (nullable = true)\n",
      " |-- concavity_se: double (nullable = true)\n",
      " |-- concave points_se: double (nullable = true)\n",
      " |-- symmetry_se: double (nullable = true)\n",
      " |-- fractal_dimension_se: double (nullable = true)\n",
      " |-- radius_worst: double (nullable = true)\n",
      " |-- texture_worst: double (nullable = true)\n",
      " |-- perimeter_worst: double (nullable = true)\n",
      " |-- area_worst: double (nullable = true)\n",
      " |-- smoothness_worst: double (nullable = true)\n",
      " |-- compactness_worst: double (nullable = true)\n",
      " |-- concavity_worst: double (nullable = true)\n",
      " |-- concave points_worst: double (nullable = true)\n",
      " |-- symmetry_worst: double (nullable = true)\n",
      " |-- fractal_dimension_worst: double (nullable = true)\n",
      " |-- _c32: string (nullable = true)\n",
      "\n"
     ]
    }
   ],
   "source": [
    "SparkDF.printSchema()"
   ]
  },
  {
   "cell_type": "code",
   "execution_count": 8,
   "id": "db4b5aea",
   "metadata": {},
   "outputs": [
    {
     "data": {
      "text/html": [
       "<div>\n",
       "<style scoped>\n",
       "    .dataframe tbody tr th:only-of-type {\n",
       "        vertical-align: middle;\n",
       "    }\n",
       "\n",
       "    .dataframe tbody tr th {\n",
       "        vertical-align: top;\n",
       "    }\n",
       "\n",
       "    .dataframe thead th {\n",
       "        text-align: right;\n",
       "    }\n",
       "</style>\n",
       "<table border=\"1\" class=\"dataframe\">\n",
       "  <thead>\n",
       "    <tr style=\"text-align: right;\">\n",
       "      <th></th>\n",
       "      <th>id</th>\n",
       "      <th>diagnosis</th>\n",
       "      <th>radius_mean</th>\n",
       "      <th>texture_mean</th>\n",
       "      <th>perimeter_mean</th>\n",
       "      <th>area_mean</th>\n",
       "      <th>smoothness_mean</th>\n",
       "      <th>compactness_mean</th>\n",
       "      <th>concavity_mean</th>\n",
       "      <th>concave points_mean</th>\n",
       "      <th>...</th>\n",
       "      <th>texture_worst</th>\n",
       "      <th>perimeter_worst</th>\n",
       "      <th>area_worst</th>\n",
       "      <th>smoothness_worst</th>\n",
       "      <th>compactness_worst</th>\n",
       "      <th>concavity_worst</th>\n",
       "      <th>concave points_worst</th>\n",
       "      <th>symmetry_worst</th>\n",
       "      <th>fractal_dimension_worst</th>\n",
       "      <th>_c32</th>\n",
       "    </tr>\n",
       "  </thead>\n",
       "  <tbody>\n",
       "    <tr>\n",
       "      <th>0</th>\n",
       "      <td>842302</td>\n",
       "      <td>M</td>\n",
       "      <td>17.99</td>\n",
       "      <td>10.38</td>\n",
       "      <td>122.80</td>\n",
       "      <td>1001.0</td>\n",
       "      <td>0.11840</td>\n",
       "      <td>0.27760</td>\n",
       "      <td>0.3001</td>\n",
       "      <td>0.14710</td>\n",
       "      <td>...</td>\n",
       "      <td>17.33</td>\n",
       "      <td>184.60</td>\n",
       "      <td>2019.0</td>\n",
       "      <td>0.1622</td>\n",
       "      <td>0.6656</td>\n",
       "      <td>0.7119</td>\n",
       "      <td>0.2654</td>\n",
       "      <td>0.4601</td>\n",
       "      <td>0.11890</td>\n",
       "      <td>None</td>\n",
       "    </tr>\n",
       "    <tr>\n",
       "      <th>1</th>\n",
       "      <td>842517</td>\n",
       "      <td>M</td>\n",
       "      <td>20.57</td>\n",
       "      <td>17.77</td>\n",
       "      <td>132.90</td>\n",
       "      <td>1326.0</td>\n",
       "      <td>0.08474</td>\n",
       "      <td>0.07864</td>\n",
       "      <td>0.0869</td>\n",
       "      <td>0.07017</td>\n",
       "      <td>...</td>\n",
       "      <td>23.41</td>\n",
       "      <td>158.80</td>\n",
       "      <td>1956.0</td>\n",
       "      <td>0.1238</td>\n",
       "      <td>0.1866</td>\n",
       "      <td>0.2416</td>\n",
       "      <td>0.1860</td>\n",
       "      <td>0.2750</td>\n",
       "      <td>0.08902</td>\n",
       "      <td>None</td>\n",
       "    </tr>\n",
       "    <tr>\n",
       "      <th>2</th>\n",
       "      <td>84300903</td>\n",
       "      <td>M</td>\n",
       "      <td>19.69</td>\n",
       "      <td>21.25</td>\n",
       "      <td>130.00</td>\n",
       "      <td>1203.0</td>\n",
       "      <td>0.10960</td>\n",
       "      <td>0.15990</td>\n",
       "      <td>0.1974</td>\n",
       "      <td>0.12790</td>\n",
       "      <td>...</td>\n",
       "      <td>25.53</td>\n",
       "      <td>152.50</td>\n",
       "      <td>1709.0</td>\n",
       "      <td>0.1444</td>\n",
       "      <td>0.4245</td>\n",
       "      <td>0.4504</td>\n",
       "      <td>0.2430</td>\n",
       "      <td>0.3613</td>\n",
       "      <td>0.08758</td>\n",
       "      <td>None</td>\n",
       "    </tr>\n",
       "    <tr>\n",
       "      <th>3</th>\n",
       "      <td>84348301</td>\n",
       "      <td>M</td>\n",
       "      <td>11.42</td>\n",
       "      <td>20.38</td>\n",
       "      <td>77.58</td>\n",
       "      <td>386.1</td>\n",
       "      <td>0.14250</td>\n",
       "      <td>0.28390</td>\n",
       "      <td>0.2414</td>\n",
       "      <td>0.10520</td>\n",
       "      <td>...</td>\n",
       "      <td>26.50</td>\n",
       "      <td>98.87</td>\n",
       "      <td>567.7</td>\n",
       "      <td>0.2098</td>\n",
       "      <td>0.8663</td>\n",
       "      <td>0.6869</td>\n",
       "      <td>0.2575</td>\n",
       "      <td>0.6638</td>\n",
       "      <td>0.17300</td>\n",
       "      <td>None</td>\n",
       "    </tr>\n",
       "    <tr>\n",
       "      <th>4</th>\n",
       "      <td>84358402</td>\n",
       "      <td>M</td>\n",
       "      <td>20.29</td>\n",
       "      <td>14.34</td>\n",
       "      <td>135.10</td>\n",
       "      <td>1297.0</td>\n",
       "      <td>0.10030</td>\n",
       "      <td>0.13280</td>\n",
       "      <td>0.1980</td>\n",
       "      <td>0.10430</td>\n",
       "      <td>...</td>\n",
       "      <td>16.67</td>\n",
       "      <td>152.20</td>\n",
       "      <td>1575.0</td>\n",
       "      <td>0.1374</td>\n",
       "      <td>0.2050</td>\n",
       "      <td>0.4000</td>\n",
       "      <td>0.1625</td>\n",
       "      <td>0.2364</td>\n",
       "      <td>0.07678</td>\n",
       "      <td>None</td>\n",
       "    </tr>\n",
       "  </tbody>\n",
       "</table>\n",
       "<p>5 rows × 33 columns</p>\n",
       "</div>"
      ],
      "text/plain": [
       "         id diagnosis  radius_mean  texture_mean  perimeter_mean  area_mean   \n",
       "0    842302         M        17.99         10.38          122.80     1001.0  \\\n",
       "1    842517         M        20.57         17.77          132.90     1326.0   \n",
       "2  84300903         M        19.69         21.25          130.00     1203.0   \n",
       "3  84348301         M        11.42         20.38           77.58      386.1   \n",
       "4  84358402         M        20.29         14.34          135.10     1297.0   \n",
       "\n",
       "   smoothness_mean  compactness_mean  concavity_mean  concave points_mean   \n",
       "0          0.11840           0.27760          0.3001              0.14710  \\\n",
       "1          0.08474           0.07864          0.0869              0.07017   \n",
       "2          0.10960           0.15990          0.1974              0.12790   \n",
       "3          0.14250           0.28390          0.2414              0.10520   \n",
       "4          0.10030           0.13280          0.1980              0.10430   \n",
       "\n",
       "   ...  texture_worst  perimeter_worst  area_worst  smoothness_worst   \n",
       "0  ...          17.33           184.60      2019.0            0.1622  \\\n",
       "1  ...          23.41           158.80      1956.0            0.1238   \n",
       "2  ...          25.53           152.50      1709.0            0.1444   \n",
       "3  ...          26.50            98.87       567.7            0.2098   \n",
       "4  ...          16.67           152.20      1575.0            0.1374   \n",
       "\n",
       "   compactness_worst  concavity_worst  concave points_worst  symmetry_worst   \n",
       "0             0.6656           0.7119                0.2654          0.4601  \\\n",
       "1             0.1866           0.2416                0.1860          0.2750   \n",
       "2             0.4245           0.4504                0.2430          0.3613   \n",
       "3             0.8663           0.6869                0.2575          0.6638   \n",
       "4             0.2050           0.4000                0.1625          0.2364   \n",
       "\n",
       "   fractal_dimension_worst  _c32  \n",
       "0                  0.11890  None  \n",
       "1                  0.08902  None  \n",
       "2                  0.08758  None  \n",
       "3                  0.17300  None  \n",
       "4                  0.07678  None  \n",
       "\n",
       "[5 rows x 33 columns]"
      ]
     },
     "execution_count": 8,
     "metadata": {},
     "output_type": "execute_result"
    }
   ],
   "source": [
    "# Visualizando os dados no formato do Pandas\n",
    "\n",
    "SparkDF.limit(5).toPandas()"
   ]
  },
  {
   "cell_type": "markdown",
   "id": "140dfcea",
   "metadata": {},
   "source": [
    "<a id=\"1\"></a>\n",
    "# <p style=\"background-color:#714e86;font-family:Segoe UI Semibold;color:#FFF9ED;font-size:150%;text-align:center;border-radius:10px 10px;\">4. PRÉ-PROCESSAMENTO</p>"
   ]
  },
  {
   "cell_type": "markdown",
   "id": "760c4ac0",
   "metadata": {},
   "source": [
    "### Drop das colunas ID e _c32"
   ]
  },
  {
   "cell_type": "code",
   "execution_count": 9,
   "id": "6765e8c0",
   "metadata": {},
   "outputs": [],
   "source": [
    "SparkDF = SparkDF.drop('ID','_c32')"
   ]
  },
  {
   "cell_type": "code",
   "execution_count": 10,
   "id": "653de815",
   "metadata": {},
   "outputs": [
    {
     "data": {
      "text/html": [
       "<div>\n",
       "<style scoped>\n",
       "    .dataframe tbody tr th:only-of-type {\n",
       "        vertical-align: middle;\n",
       "    }\n",
       "\n",
       "    .dataframe tbody tr th {\n",
       "        vertical-align: top;\n",
       "    }\n",
       "\n",
       "    .dataframe thead th {\n",
       "        text-align: right;\n",
       "    }\n",
       "</style>\n",
       "<table border=\"1\" class=\"dataframe\">\n",
       "  <thead>\n",
       "    <tr style=\"text-align: right;\">\n",
       "      <th></th>\n",
       "      <th>diagnosis</th>\n",
       "      <th>radius_mean</th>\n",
       "      <th>texture_mean</th>\n",
       "      <th>perimeter_mean</th>\n",
       "      <th>area_mean</th>\n",
       "      <th>smoothness_mean</th>\n",
       "      <th>compactness_mean</th>\n",
       "      <th>concavity_mean</th>\n",
       "      <th>concave points_mean</th>\n",
       "      <th>symmetry_mean</th>\n",
       "      <th>...</th>\n",
       "      <th>radius_worst</th>\n",
       "      <th>texture_worst</th>\n",
       "      <th>perimeter_worst</th>\n",
       "      <th>area_worst</th>\n",
       "      <th>smoothness_worst</th>\n",
       "      <th>compactness_worst</th>\n",
       "      <th>concavity_worst</th>\n",
       "      <th>concave points_worst</th>\n",
       "      <th>symmetry_worst</th>\n",
       "      <th>fractal_dimension_worst</th>\n",
       "    </tr>\n",
       "  </thead>\n",
       "  <tbody>\n",
       "    <tr>\n",
       "      <th>0</th>\n",
       "      <td>M</td>\n",
       "      <td>17.99</td>\n",
       "      <td>10.38</td>\n",
       "      <td>122.80</td>\n",
       "      <td>1001.0</td>\n",
       "      <td>0.11840</td>\n",
       "      <td>0.27760</td>\n",
       "      <td>0.3001</td>\n",
       "      <td>0.14710</td>\n",
       "      <td>0.2419</td>\n",
       "      <td>...</td>\n",
       "      <td>25.38</td>\n",
       "      <td>17.33</td>\n",
       "      <td>184.60</td>\n",
       "      <td>2019.0</td>\n",
       "      <td>0.1622</td>\n",
       "      <td>0.6656</td>\n",
       "      <td>0.7119</td>\n",
       "      <td>0.2654</td>\n",
       "      <td>0.4601</td>\n",
       "      <td>0.11890</td>\n",
       "    </tr>\n",
       "    <tr>\n",
       "      <th>1</th>\n",
       "      <td>M</td>\n",
       "      <td>20.57</td>\n",
       "      <td>17.77</td>\n",
       "      <td>132.90</td>\n",
       "      <td>1326.0</td>\n",
       "      <td>0.08474</td>\n",
       "      <td>0.07864</td>\n",
       "      <td>0.0869</td>\n",
       "      <td>0.07017</td>\n",
       "      <td>0.1812</td>\n",
       "      <td>...</td>\n",
       "      <td>24.99</td>\n",
       "      <td>23.41</td>\n",
       "      <td>158.80</td>\n",
       "      <td>1956.0</td>\n",
       "      <td>0.1238</td>\n",
       "      <td>0.1866</td>\n",
       "      <td>0.2416</td>\n",
       "      <td>0.1860</td>\n",
       "      <td>0.2750</td>\n",
       "      <td>0.08902</td>\n",
       "    </tr>\n",
       "    <tr>\n",
       "      <th>2</th>\n",
       "      <td>M</td>\n",
       "      <td>19.69</td>\n",
       "      <td>21.25</td>\n",
       "      <td>130.00</td>\n",
       "      <td>1203.0</td>\n",
       "      <td>0.10960</td>\n",
       "      <td>0.15990</td>\n",
       "      <td>0.1974</td>\n",
       "      <td>0.12790</td>\n",
       "      <td>0.2069</td>\n",
       "      <td>...</td>\n",
       "      <td>23.57</td>\n",
       "      <td>25.53</td>\n",
       "      <td>152.50</td>\n",
       "      <td>1709.0</td>\n",
       "      <td>0.1444</td>\n",
       "      <td>0.4245</td>\n",
       "      <td>0.4504</td>\n",
       "      <td>0.2430</td>\n",
       "      <td>0.3613</td>\n",
       "      <td>0.08758</td>\n",
       "    </tr>\n",
       "    <tr>\n",
       "      <th>3</th>\n",
       "      <td>M</td>\n",
       "      <td>11.42</td>\n",
       "      <td>20.38</td>\n",
       "      <td>77.58</td>\n",
       "      <td>386.1</td>\n",
       "      <td>0.14250</td>\n",
       "      <td>0.28390</td>\n",
       "      <td>0.2414</td>\n",
       "      <td>0.10520</td>\n",
       "      <td>0.2597</td>\n",
       "      <td>...</td>\n",
       "      <td>14.91</td>\n",
       "      <td>26.50</td>\n",
       "      <td>98.87</td>\n",
       "      <td>567.7</td>\n",
       "      <td>0.2098</td>\n",
       "      <td>0.8663</td>\n",
       "      <td>0.6869</td>\n",
       "      <td>0.2575</td>\n",
       "      <td>0.6638</td>\n",
       "      <td>0.17300</td>\n",
       "    </tr>\n",
       "    <tr>\n",
       "      <th>4</th>\n",
       "      <td>M</td>\n",
       "      <td>20.29</td>\n",
       "      <td>14.34</td>\n",
       "      <td>135.10</td>\n",
       "      <td>1297.0</td>\n",
       "      <td>0.10030</td>\n",
       "      <td>0.13280</td>\n",
       "      <td>0.1980</td>\n",
       "      <td>0.10430</td>\n",
       "      <td>0.1809</td>\n",
       "      <td>...</td>\n",
       "      <td>22.54</td>\n",
       "      <td>16.67</td>\n",
       "      <td>152.20</td>\n",
       "      <td>1575.0</td>\n",
       "      <td>0.1374</td>\n",
       "      <td>0.2050</td>\n",
       "      <td>0.4000</td>\n",
       "      <td>0.1625</td>\n",
       "      <td>0.2364</td>\n",
       "      <td>0.07678</td>\n",
       "    </tr>\n",
       "  </tbody>\n",
       "</table>\n",
       "<p>5 rows × 31 columns</p>\n",
       "</div>"
      ],
      "text/plain": [
       "  diagnosis  radius_mean  texture_mean  perimeter_mean  area_mean   \n",
       "0         M        17.99         10.38          122.80     1001.0  \\\n",
       "1         M        20.57         17.77          132.90     1326.0   \n",
       "2         M        19.69         21.25          130.00     1203.0   \n",
       "3         M        11.42         20.38           77.58      386.1   \n",
       "4         M        20.29         14.34          135.10     1297.0   \n",
       "\n",
       "   smoothness_mean  compactness_mean  concavity_mean  concave points_mean   \n",
       "0          0.11840           0.27760          0.3001              0.14710  \\\n",
       "1          0.08474           0.07864          0.0869              0.07017   \n",
       "2          0.10960           0.15990          0.1974              0.12790   \n",
       "3          0.14250           0.28390          0.2414              0.10520   \n",
       "4          0.10030           0.13280          0.1980              0.10430   \n",
       "\n",
       "   symmetry_mean  ...  radius_worst  texture_worst  perimeter_worst   \n",
       "0         0.2419  ...         25.38          17.33           184.60  \\\n",
       "1         0.1812  ...         24.99          23.41           158.80   \n",
       "2         0.2069  ...         23.57          25.53           152.50   \n",
       "3         0.2597  ...         14.91          26.50            98.87   \n",
       "4         0.1809  ...         22.54          16.67           152.20   \n",
       "\n",
       "   area_worst  smoothness_worst  compactness_worst  concavity_worst   \n",
       "0      2019.0            0.1622             0.6656           0.7119  \\\n",
       "1      1956.0            0.1238             0.1866           0.2416   \n",
       "2      1709.0            0.1444             0.4245           0.4504   \n",
       "3       567.7            0.2098             0.8663           0.6869   \n",
       "4      1575.0            0.1374             0.2050           0.4000   \n",
       "\n",
       "   concave points_worst  symmetry_worst  fractal_dimension_worst  \n",
       "0                0.2654          0.4601                  0.11890  \n",
       "1                0.1860          0.2750                  0.08902  \n",
       "2                0.2430          0.3613                  0.08758  \n",
       "3                0.2575          0.6638                  0.17300  \n",
       "4                0.1625          0.2364                  0.07678  \n",
       "\n",
       "[5 rows x 31 columns]"
      ]
     },
     "execution_count": 10,
     "metadata": {},
     "output_type": "execute_result"
    }
   ],
   "source": [
    "SparkDF.limit(5).toPandas()"
   ]
  },
  {
   "cell_type": "markdown",
   "id": "ce3e90d0",
   "metadata": {},
   "source": [
    "### Checagem do Balanceamento do Dataset"
   ]
  },
  {
   "cell_type": "code",
   "execution_count": 11,
   "id": "2ca14ea2",
   "metadata": {},
   "outputs": [
    {
     "name": "stdout",
     "output_type": "stream",
     "text": [
      "+---------+-----+\n",
      "|diagnosis|count|\n",
      "+---------+-----+\n",
      "|        B|  357|\n",
      "|        M|  212|\n",
      "+---------+-----+\n",
      "\n"
     ]
    }
   ],
   "source": [
    "SparkDF.groupby('diagnosis').count().show()"
   ]
  },
  {
   "cell_type": "markdown",
   "id": "fc163f5d",
   "metadata": {},
   "source": [
    "### Checagem de dados ausentes"
   ]
  },
  {
   "cell_type": "code",
   "execution_count": 12,
   "id": "f17cbec8",
   "metadata": {},
   "outputs": [
    {
     "name": "stdout",
     "output_type": "stream",
     "text": [
      "-RECORD 0----------------------\n",
      " diagnosis               | 0   \n",
      " radius_mean             | 0   \n",
      " texture_mean            | 0   \n",
      " perimeter_mean          | 0   \n",
      " area_mean               | 0   \n",
      " smoothness_mean         | 0   \n",
      " compactness_mean        | 0   \n",
      " concavity_mean          | 0   \n",
      " concave points_mean     | 0   \n",
      " symmetry_mean           | 0   \n",
      " fractal_dimension_mean  | 0   \n",
      " radius_se               | 0   \n",
      " texture_se              | 0   \n",
      " perimeter_se            | 0   \n",
      " area_se                 | 0   \n",
      " smoothness_se           | 0   \n",
      " compactness_se          | 0   \n",
      " concavity_se            | 0   \n",
      " concave points_se       | 0   \n",
      " symmetry_se             | 0   \n",
      " fractal_dimension_se    | 0   \n",
      " radius_worst            | 0   \n",
      " texture_worst           | 0   \n",
      " perimeter_worst         | 0   \n",
      " area_worst              | 0   \n",
      " smoothness_worst        | 0   \n",
      " compactness_worst       | 0   \n",
      " concavity_worst         | 0   \n",
      " concave points_worst    | 0   \n",
      " symmetry_worst          | 0   \n",
      " fractal_dimension_worst | 0   \n",
      "\n"
     ]
    }
   ],
   "source": [
    "# Checando Missing Values\n",
    "\n",
    "SparkDF.select([count(when(isnan(coluna) | col(coluna).isNull(), coluna)).alias(coluna) for coluna in SparkDF.columns]).show(truncate=False, vertical=True)"
   ]
  },
  {
   "cell_type": "markdown",
   "id": "f5f224b0",
   "metadata": {},
   "source": [
    "### Resumo Estatístico: describe"
   ]
  },
  {
   "cell_type": "code",
   "execution_count": 13,
   "id": "75c31c4b",
   "metadata": {},
   "outputs": [
    {
     "name": "stdout",
     "output_type": "stream",
     "text": [
      "+-------+------------------+-----------------+-----------------+-----------------+--------------------+\n",
      "|summary|       radius_mean|     texture_mean|   perimeter_mean|        area_mean|     smoothness_mean|\n",
      "+-------+------------------+-----------------+-----------------+-----------------+--------------------+\n",
      "|  count|               569|              569|              569|              569|                 569|\n",
      "|   mean|14.127291739894563|19.28964850615117|91.96903339191566|654.8891036906857|   0.096360281195079|\n",
      "| stddev|3.5240488262120793|4.301035768166948| 24.2989810387549|351.9141291816529|0.014064128137673616|\n",
      "|    min|             6.981|             9.71|            43.79|            143.5|             0.05263|\n",
      "|    max|             28.11|            39.28|            188.5|           2501.0|              0.1634|\n",
      "+-------+------------------+-----------------+-----------------+-----------------+--------------------+\n",
      "\n"
     ]
    }
   ],
   "source": [
    "SparkDF.describe(['radius_mean', 'texture_mean', 'perimeter_mean', 'area_mean', 'smoothness_mean']).show()"
   ]
  },
  {
   "cell_type": "markdown",
   "id": "915ad278",
   "metadata": {},
   "source": [
    "### Label Encoding: StringIndexer\n",
    "\n",
    "Label Encoding com StringIndexer: criando um índice para a coluna 'diagnosis'\n",
    "https://spark.apache.org/docs/latest/api/python/reference/api/pyspark.ml.feature.StringIndexer.html#pyspark.ml.feature.StringIndexer\n",
    "\n",
    "A label indexer that maps a string column of labels to an ML column of label indices. If the input column is numeric, we cast it to string and index the string values. The indices are in [0, numLabels). By default, this is ordered by label frequencies so the most frequent label gets index 0. The ordering behavior is controlled by setting stringOrderType. Its default value is ‘frequencyDesc’."
   ]
  },
  {
   "cell_type": "code",
   "execution_count": 14,
   "id": "555322c1",
   "metadata": {},
   "outputs": [],
   "source": [
    "stringIndexer = StringIndexer(inputCol = 'diagnosis', outputCol = 'diag')"
   ]
  },
  {
   "cell_type": "code",
   "execution_count": 15,
   "id": "e4e65382",
   "metadata": {},
   "outputs": [],
   "source": [
    "# Treinando o string Indexer\n",
    "\n",
    "si_model = stringIndexer.fit(SparkDF)"
   ]
  },
  {
   "cell_type": "code",
   "execution_count": 16,
   "id": "36bc48cd",
   "metadata": {},
   "outputs": [],
   "source": [
    "# Aplicando o string Indexer\n",
    "\n",
    "df_si = si_model.transform(SparkDF)"
   ]
  },
  {
   "cell_type": "code",
   "execution_count": 17,
   "id": "d122a601",
   "metadata": {},
   "outputs": [
    {
     "data": {
      "text/html": [
       "<div>\n",
       "<style scoped>\n",
       "    .dataframe tbody tr th:only-of-type {\n",
       "        vertical-align: middle;\n",
       "    }\n",
       "\n",
       "    .dataframe tbody tr th {\n",
       "        vertical-align: top;\n",
       "    }\n",
       "\n",
       "    .dataframe thead th {\n",
       "        text-align: right;\n",
       "    }\n",
       "</style>\n",
       "<table border=\"1\" class=\"dataframe\">\n",
       "  <thead>\n",
       "    <tr style=\"text-align: right;\">\n",
       "      <th></th>\n",
       "      <th>diagnosis</th>\n",
       "      <th>radius_mean</th>\n",
       "      <th>texture_mean</th>\n",
       "      <th>perimeter_mean</th>\n",
       "      <th>area_mean</th>\n",
       "      <th>smoothness_mean</th>\n",
       "      <th>compactness_mean</th>\n",
       "      <th>concavity_mean</th>\n",
       "      <th>concave points_mean</th>\n",
       "      <th>symmetry_mean</th>\n",
       "      <th>...</th>\n",
       "      <th>texture_worst</th>\n",
       "      <th>perimeter_worst</th>\n",
       "      <th>area_worst</th>\n",
       "      <th>smoothness_worst</th>\n",
       "      <th>compactness_worst</th>\n",
       "      <th>concavity_worst</th>\n",
       "      <th>concave points_worst</th>\n",
       "      <th>symmetry_worst</th>\n",
       "      <th>fractal_dimension_worst</th>\n",
       "      <th>diag</th>\n",
       "    </tr>\n",
       "  </thead>\n",
       "  <tbody>\n",
       "    <tr>\n",
       "      <th>0</th>\n",
       "      <td>M</td>\n",
       "      <td>17.99</td>\n",
       "      <td>10.38</td>\n",
       "      <td>122.80</td>\n",
       "      <td>1001.0</td>\n",
       "      <td>0.11840</td>\n",
       "      <td>0.27760</td>\n",
       "      <td>0.3001</td>\n",
       "      <td>0.14710</td>\n",
       "      <td>0.2419</td>\n",
       "      <td>...</td>\n",
       "      <td>17.33</td>\n",
       "      <td>184.60</td>\n",
       "      <td>2019.0</td>\n",
       "      <td>0.1622</td>\n",
       "      <td>0.6656</td>\n",
       "      <td>0.7119</td>\n",
       "      <td>0.2654</td>\n",
       "      <td>0.4601</td>\n",
       "      <td>0.11890</td>\n",
       "      <td>1.0</td>\n",
       "    </tr>\n",
       "    <tr>\n",
       "      <th>1</th>\n",
       "      <td>M</td>\n",
       "      <td>20.57</td>\n",
       "      <td>17.77</td>\n",
       "      <td>132.90</td>\n",
       "      <td>1326.0</td>\n",
       "      <td>0.08474</td>\n",
       "      <td>0.07864</td>\n",
       "      <td>0.0869</td>\n",
       "      <td>0.07017</td>\n",
       "      <td>0.1812</td>\n",
       "      <td>...</td>\n",
       "      <td>23.41</td>\n",
       "      <td>158.80</td>\n",
       "      <td>1956.0</td>\n",
       "      <td>0.1238</td>\n",
       "      <td>0.1866</td>\n",
       "      <td>0.2416</td>\n",
       "      <td>0.1860</td>\n",
       "      <td>0.2750</td>\n",
       "      <td>0.08902</td>\n",
       "      <td>1.0</td>\n",
       "    </tr>\n",
       "    <tr>\n",
       "      <th>2</th>\n",
       "      <td>M</td>\n",
       "      <td>19.69</td>\n",
       "      <td>21.25</td>\n",
       "      <td>130.00</td>\n",
       "      <td>1203.0</td>\n",
       "      <td>0.10960</td>\n",
       "      <td>0.15990</td>\n",
       "      <td>0.1974</td>\n",
       "      <td>0.12790</td>\n",
       "      <td>0.2069</td>\n",
       "      <td>...</td>\n",
       "      <td>25.53</td>\n",
       "      <td>152.50</td>\n",
       "      <td>1709.0</td>\n",
       "      <td>0.1444</td>\n",
       "      <td>0.4245</td>\n",
       "      <td>0.4504</td>\n",
       "      <td>0.2430</td>\n",
       "      <td>0.3613</td>\n",
       "      <td>0.08758</td>\n",
       "      <td>1.0</td>\n",
       "    </tr>\n",
       "    <tr>\n",
       "      <th>3</th>\n",
       "      <td>M</td>\n",
       "      <td>11.42</td>\n",
       "      <td>20.38</td>\n",
       "      <td>77.58</td>\n",
       "      <td>386.1</td>\n",
       "      <td>0.14250</td>\n",
       "      <td>0.28390</td>\n",
       "      <td>0.2414</td>\n",
       "      <td>0.10520</td>\n",
       "      <td>0.2597</td>\n",
       "      <td>...</td>\n",
       "      <td>26.50</td>\n",
       "      <td>98.87</td>\n",
       "      <td>567.7</td>\n",
       "      <td>0.2098</td>\n",
       "      <td>0.8663</td>\n",
       "      <td>0.6869</td>\n",
       "      <td>0.2575</td>\n",
       "      <td>0.6638</td>\n",
       "      <td>0.17300</td>\n",
       "      <td>1.0</td>\n",
       "    </tr>\n",
       "    <tr>\n",
       "      <th>4</th>\n",
       "      <td>M</td>\n",
       "      <td>20.29</td>\n",
       "      <td>14.34</td>\n",
       "      <td>135.10</td>\n",
       "      <td>1297.0</td>\n",
       "      <td>0.10030</td>\n",
       "      <td>0.13280</td>\n",
       "      <td>0.1980</td>\n",
       "      <td>0.10430</td>\n",
       "      <td>0.1809</td>\n",
       "      <td>...</td>\n",
       "      <td>16.67</td>\n",
       "      <td>152.20</td>\n",
       "      <td>1575.0</td>\n",
       "      <td>0.1374</td>\n",
       "      <td>0.2050</td>\n",
       "      <td>0.4000</td>\n",
       "      <td>0.1625</td>\n",
       "      <td>0.2364</td>\n",
       "      <td>0.07678</td>\n",
       "      <td>1.0</td>\n",
       "    </tr>\n",
       "  </tbody>\n",
       "</table>\n",
       "<p>5 rows × 32 columns</p>\n",
       "</div>"
      ],
      "text/plain": [
       "  diagnosis  radius_mean  texture_mean  perimeter_mean  area_mean   \n",
       "0         M        17.99         10.38          122.80     1001.0  \\\n",
       "1         M        20.57         17.77          132.90     1326.0   \n",
       "2         M        19.69         21.25          130.00     1203.0   \n",
       "3         M        11.42         20.38           77.58      386.1   \n",
       "4         M        20.29         14.34          135.10     1297.0   \n",
       "\n",
       "   smoothness_mean  compactness_mean  concavity_mean  concave points_mean   \n",
       "0          0.11840           0.27760          0.3001              0.14710  \\\n",
       "1          0.08474           0.07864          0.0869              0.07017   \n",
       "2          0.10960           0.15990          0.1974              0.12790   \n",
       "3          0.14250           0.28390          0.2414              0.10520   \n",
       "4          0.10030           0.13280          0.1980              0.10430   \n",
       "\n",
       "   symmetry_mean  ...  texture_worst  perimeter_worst  area_worst   \n",
       "0         0.2419  ...          17.33           184.60      2019.0  \\\n",
       "1         0.1812  ...          23.41           158.80      1956.0   \n",
       "2         0.2069  ...          25.53           152.50      1709.0   \n",
       "3         0.2597  ...          26.50            98.87       567.7   \n",
       "4         0.1809  ...          16.67           152.20      1575.0   \n",
       "\n",
       "   smoothness_worst  compactness_worst  concavity_worst  concave points_worst   \n",
       "0            0.1622             0.6656           0.7119                0.2654  \\\n",
       "1            0.1238             0.1866           0.2416                0.1860   \n",
       "2            0.1444             0.4245           0.4504                0.2430   \n",
       "3            0.2098             0.8663           0.6869                0.2575   \n",
       "4            0.1374             0.2050           0.4000                0.1625   \n",
       "\n",
       "   symmetry_worst  fractal_dimension_worst  diag  \n",
       "0          0.4601                  0.11890   1.0  \n",
       "1          0.2750                  0.08902   1.0  \n",
       "2          0.3613                  0.08758   1.0  \n",
       "3          0.6638                  0.17300   1.0  \n",
       "4          0.2364                  0.07678   1.0  \n",
       "\n",
       "[5 rows x 32 columns]"
      ]
     },
     "execution_count": 17,
     "metadata": {},
     "output_type": "execute_result"
    }
   ],
   "source": [
    "df_si.limit(5).toPandas()"
   ]
  },
  {
   "cell_type": "markdown",
   "id": "33d983a8",
   "metadata": {},
   "source": [
    "### Correlação com a variável alvo\n"
   ]
  },
  {
   "cell_type": "code",
   "execution_count": 18,
   "id": "a07543eb",
   "metadata": {},
   "outputs": [
    {
     "name": "stdout",
     "output_type": "stream",
     "text": [
      "Correlação da variável DIAGNOSIS com: radius_mean 0.7300285113754562\n",
      "Correlação da variável DIAGNOSIS com: texture_mean 0.4151852998452047\n",
      "Correlação da variável DIAGNOSIS com: perimeter_mean 0.7426355297258332\n",
      "Correlação da variável DIAGNOSIS com: area_mean 0.7089838365853901\n",
      "Correlação da variável DIAGNOSIS com: smoothness_mean 0.3585599650859332\n",
      "Correlação da variável DIAGNOSIS com: compactness_mean 0.5965336775082527\n",
      "Correlação da variável DIAGNOSIS com: concavity_mean 0.6963597071719051\n",
      "Correlação da variável DIAGNOSIS com: concave points_mean 0.776613840020437\n",
      "Correlação da variável DIAGNOSIS com: symmetry_mean 0.3304985542625468\n",
      "Correlação da variável DIAGNOSIS com: fractal_dimension_mean -0.012837602698431884\n",
      "Correlação da variável DIAGNOSIS com: radius_se 0.5671338208247174\n",
      "Correlação da variável DIAGNOSIS com: texture_se -0.008303332973877036\n",
      "Correlação da variável DIAGNOSIS com: perimeter_se 0.556140703431483\n",
      "Correlação da variável DIAGNOSIS com: area_se 0.548235940278024\n",
      "Correlação da variável DIAGNOSIS com: smoothness_se -0.06701601057948751\n",
      "Correlação da variável DIAGNOSIS com: compactness_se 0.2929992442488585\n",
      "Correlação da variável DIAGNOSIS com: concavity_se 0.2537297659808307\n",
      "Correlação da variável DIAGNOSIS com: concave points_se 0.40804233271650503\n",
      "Correlação da variável DIAGNOSIS com: symmetry_se -0.006521755870647791\n",
      "Correlação da variável DIAGNOSIS com: fractal_dimension_se 0.07797241739025583\n",
      "Correlação da variável DIAGNOSIS com: radius_worst 0.7764537785950396\n",
      "Correlação da variável DIAGNOSIS com: texture_worst 0.45690282139679844\n",
      "Correlação da variável DIAGNOSIS com: perimeter_worst 0.7829141371737591\n",
      "Correlação da variável DIAGNOSIS com: area_worst 0.7338250349210503\n",
      "Correlação da variável DIAGNOSIS com: smoothness_worst 0.4214648610664025\n",
      "Correlação da variável DIAGNOSIS com: compactness_worst 0.5909982378417917\n",
      "Correlação da variável DIAGNOSIS com: concavity_worst 0.6596102103692333\n",
      "Correlação da variável DIAGNOSIS com: concave points_worst 0.7935660171412694\n",
      "Correlação da variável DIAGNOSIS com: symmetry_worst 0.4162943110486196\n",
      "Correlação da variável DIAGNOSIS com: fractal_dimension_worst 0.32387218872082474\n",
      "Correlação da variável DIAGNOSIS com: diag 1.0\n"
     ]
    }
   ],
   "source": [
    "# Correlação entre as variáveis\n",
    "for i in df_si.columns:\n",
    "    if not(isinstance(df_si.select(i).take(1)[0][0], str)) :\n",
    "        print( \"Correlação da variável DIAGNOSIS com:\", i, df_si.stat.corr('diag',i))"
   ]
  },
  {
   "cell_type": "markdown",
   "id": "a9baba78",
   "metadata": {},
   "source": [
    "#### Seleção das 'features'"
   ]
  },
  {
   "cell_type": "code",
   "execution_count": 19,
   "id": "e362defc",
   "metadata": {},
   "outputs": [],
   "source": [
    "feat_cols = df_si.columns[1:-1]"
   ]
  },
  {
   "cell_type": "code",
   "execution_count": 20,
   "id": "7f1e9c39",
   "metadata": {},
   "outputs": [],
   "source": [
    "# Preparamos o VectorAssembler\n",
    "\n",
    "Assemb = VectorAssembler(inputCols = feat_cols, \n",
    "                        outputCol = 'features')"
   ]
  },
  {
   "cell_type": "code",
   "execution_count": 21,
   "id": "d5d6f635",
   "metadata": {},
   "outputs": [],
   "source": [
    "Assembled = Assemb.transform(df_si)"
   ]
  },
  {
   "cell_type": "code",
   "execution_count": 22,
   "id": "d4746d7a",
   "metadata": {},
   "outputs": [
    {
     "name": "stdout",
     "output_type": "stream",
     "text": [
      "-RECORD 0---------------------------------------\n",
      " diagnosis               | M                    \n",
      " radius_mean             | 17.99                \n",
      " texture_mean            | 10.38                \n",
      " perimeter_mean          | 122.8                \n",
      " area_mean               | 1001.0               \n",
      " smoothness_mean         | 0.1184               \n",
      " compactness_mean        | 0.2776               \n",
      " concavity_mean          | 0.3001               \n",
      " concave points_mean     | 0.1471               \n",
      " symmetry_mean           | 0.2419               \n",
      " fractal_dimension_mean  | 0.07871              \n",
      " radius_se               | 1.095                \n",
      " texture_se              | 0.9053               \n",
      " perimeter_se            | 8.589                \n",
      " area_se                 | 153.4                \n",
      " smoothness_se           | 0.006399             \n",
      " compactness_se          | 0.04904              \n",
      " concavity_se            | 0.05373              \n",
      " concave points_se       | 0.01587              \n",
      " symmetry_se             | 0.03003              \n",
      " fractal_dimension_se    | 0.006193             \n",
      " radius_worst            | 25.38                \n",
      " texture_worst           | 17.33                \n",
      " perimeter_worst         | 184.6                \n",
      " area_worst              | 2019.0               \n",
      " smoothness_worst        | 0.1622               \n",
      " compactness_worst       | 0.6656               \n",
      " concavity_worst         | 0.7119               \n",
      " concave points_worst    | 0.2654               \n",
      " symmetry_worst          | 0.4601               \n",
      " fractal_dimension_worst | 0.1189               \n",
      " diag                    | 1.0                  \n",
      " features                | [17.99,10.38,122.... \n",
      "only showing top 1 row\n",
      "\n"
     ]
    }
   ],
   "source": [
    "Assembled.show(1, vertical = True)"
   ]
  },
  {
   "cell_type": "markdown",
   "id": "afdd3bf7",
   "metadata": {},
   "source": [
    "### Padronização"
   ]
  },
  {
   "cell_type": "code",
   "execution_count": 23,
   "id": "4477ea59",
   "metadata": {},
   "outputs": [],
   "source": [
    "# Preparamos o padronizador\n",
    "std = StandardScaler(inputCol = 'features', outputCol = 'standardized')\n",
    "\n",
    "# Treinamos o padronizador\n",
    "scale = std.fit(dataset = Assembled)\n",
    "\n",
    "# Dataframe com dados padronizados\n",
    "df = scale.transform(Assembled)"
   ]
  },
  {
   "cell_type": "code",
   "execution_count": 24,
   "id": "007ff79d",
   "metadata": {},
   "outputs": [
    {
     "name": "stdout",
     "output_type": "stream",
     "text": [
      "+----+--------------------+\n",
      "|diag|            features|\n",
      "+----+--------------------+\n",
      "| 1.0|[17.99,10.38,122....|\n",
      "| 1.0|[20.57,17.77,132....|\n",
      "| 1.0|[19.69,21.25,130....|\n",
      "| 1.0|[11.42,20.38,77.5...|\n",
      "| 1.0|[20.29,14.34,135....|\n",
      "+----+--------------------+\n",
      "only showing top 5 rows\n",
      "\n"
     ]
    }
   ],
   "source": [
    "df.select('diag','features').show(5)"
   ]
  },
  {
   "cell_type": "markdown",
   "id": "3b117cf2",
   "metadata": {},
   "source": [
    "### Split dados de Treino e Teste"
   ]
  },
  {
   "cell_type": "code",
   "execution_count": 25,
   "id": "403f559e",
   "metadata": {},
   "outputs": [],
   "source": [
    "dados_treino, dados_teste = df.randomSplit([0.7,0.3])"
   ]
  },
  {
   "cell_type": "code",
   "execution_count": 26,
   "id": "63d22ec1",
   "metadata": {},
   "outputs": [
    {
     "data": {
      "text/plain": [
       "394"
      ]
     },
     "execution_count": 26,
     "metadata": {},
     "output_type": "execute_result"
    }
   ],
   "source": [
    "dados_treino.count()"
   ]
  },
  {
   "cell_type": "code",
   "execution_count": 27,
   "id": "56cf8cce",
   "metadata": {},
   "outputs": [
    {
     "data": {
      "text/plain": [
       "175"
      ]
     },
     "execution_count": 27,
     "metadata": {},
     "output_type": "execute_result"
    }
   ],
   "source": [
    "dados_teste.count()"
   ]
  },
  {
   "cell_type": "markdown",
   "id": "6c1c4ec0",
   "metadata": {},
   "source": [
    "<a id=\"5\"></a>\n",
    "# <p style=\"background-color:#714e86;font-family:Segoe UI Semibold;color:#FFF9ED;font-size:150%;text-align:center;border-radius:10px 10px;\">5. MODELOS</p>\n"
   ]
  },
  {
   "cell_type": "markdown",
   "id": "f96a92c9",
   "metadata": {},
   "source": [
    "### Criando o primeiro Modelo: V1\n",
    "Logistic Regression [Link](https://spark.apache.org/docs/latest/api/python/reference/api/pyspark.ml.classification.LogisticRegression.html#pyspark.ml.classification.LogisticRegression)"
   ]
  },
  {
   "cell_type": "code",
   "execution_count": 28,
   "id": "23eb4263",
   "metadata": {},
   "outputs": [],
   "source": [
    "LR_Classifier = LogisticRegression(featuresCol = 'features',labelCol = 'diag')"
   ]
  },
  {
   "cell_type": "code",
   "execution_count": 29,
   "id": "7e57f8d9",
   "metadata": {},
   "outputs": [],
   "source": [
    "lrc = LR_Classifier.fit(dados_treino)"
   ]
  },
  {
   "cell_type": "markdown",
   "id": "88ad29d1",
   "metadata": {},
   "source": [
    "#### Previsões com dados de Teste"
   ]
  },
  {
   "cell_type": "code",
   "execution_count": 30,
   "id": "b7c0d02a",
   "metadata": {},
   "outputs": [],
   "source": [
    "predictions_lrc = lrc.transform(dados_teste)"
   ]
  },
  {
   "cell_type": "code",
   "execution_count": 31,
   "id": "b03de3e6",
   "metadata": {},
   "outputs": [
    {
     "name": "stdout",
     "output_type": "stream",
     "text": [
      "-RECORD 0---------------------------------------\n",
      " diagnosis               | B                    \n",
      " radius_mean             | 7.691                \n",
      " texture_mean            | 25.44                \n",
      " perimeter_mean          | 48.34                \n",
      " area_mean               | 170.4                \n",
      " smoothness_mean         | 0.08668              \n",
      " compactness_mean        | 0.1199               \n",
      " concavity_mean          | 0.09252              \n",
      " concave points_mean     | 0.01364              \n",
      " symmetry_mean           | 0.2037               \n",
      " fractal_dimension_mean  | 0.07751              \n",
      " radius_se               | 0.2196               \n",
      " texture_se              | 1.479                \n",
      " perimeter_se            | 1.445                \n",
      " area_se                 | 11.73                \n",
      " smoothness_se           | 0.01547              \n",
      " compactness_se          | 0.06457              \n",
      " concavity_se            | 0.09252              \n",
      " concave points_se       | 0.01364              \n",
      " symmetry_se             | 0.02105              \n",
      " fractal_dimension_se    | 0.007551             \n",
      " radius_worst            | 8.678                \n",
      " texture_worst           | 31.89                \n",
      " perimeter_worst         | 54.49                \n",
      " area_worst              | 223.6                \n",
      " smoothness_worst        | 0.1596               \n",
      " compactness_worst       | 0.3064               \n",
      " concavity_worst         | 0.3393               \n",
      " concave points_worst    | 0.05                 \n",
      " symmetry_worst          | 0.279                \n",
      " fractal_dimension_worst | 0.1066               \n",
      " diag                    | 0.0                  \n",
      " features                | [7.691,25.44,48.3... \n",
      " standardized            | [2.18243287175645... \n",
      " rawPrediction           | [1244.19253867353... \n",
      " probability             | [1.0,0.0]            \n",
      " prediction              | 0.0                  \n",
      "only showing top 1 row\n",
      "\n"
     ]
    }
   ],
   "source": [
    "predictions_lrc.show(1, vertical = True)"
   ]
  },
  {
   "cell_type": "code",
   "execution_count": 32,
   "id": "554e9c8b",
   "metadata": {},
   "outputs": [
    {
     "data": {
      "text/html": [
       "<div>\n",
       "<style scoped>\n",
       "    .dataframe tbody tr th:only-of-type {\n",
       "        vertical-align: middle;\n",
       "    }\n",
       "\n",
       "    .dataframe tbody tr th {\n",
       "        vertical-align: top;\n",
       "    }\n",
       "\n",
       "    .dataframe thead th {\n",
       "        text-align: right;\n",
       "    }\n",
       "</style>\n",
       "<table border=\"1\" class=\"dataframe\">\n",
       "  <thead>\n",
       "    <tr style=\"text-align: right;\">\n",
       "      <th></th>\n",
       "      <th>diag</th>\n",
       "      <th>features</th>\n",
       "      <th>rawPrediction</th>\n",
       "      <th>prediction</th>\n",
       "      <th>probability</th>\n",
       "    </tr>\n",
       "  </thead>\n",
       "  <tbody>\n",
       "    <tr>\n",
       "      <th>0</th>\n",
       "      <td>0.0</td>\n",
       "      <td>[7.691, 25.44, 48.34, 170.4, 0.08668, 0.1199, ...</td>\n",
       "      <td>[1244.1925386735306, -1244.1925386735306]</td>\n",
       "      <td>0.0</td>\n",
       "      <td>[1.0, 0.0]</td>\n",
       "    </tr>\n",
       "    <tr>\n",
       "      <th>1</th>\n",
       "      <td>0.0</td>\n",
       "      <td>[8.671, 14.45, 54.42, 227.2, 0.09138, 0.04276,...</td>\n",
       "      <td>[1870.1735935298636, -1870.1735935298636]</td>\n",
       "      <td>0.0</td>\n",
       "      <td>[1.0, 0.0]</td>\n",
       "    </tr>\n",
       "    <tr>\n",
       "      <th>2</th>\n",
       "      <td>0.0</td>\n",
       "      <td>[9.042, 18.9, 60.07, 244.5, 0.09968, 0.1972, 0...</td>\n",
       "      <td>[1421.2520670213075, -1421.2520670213075]</td>\n",
       "      <td>0.0</td>\n",
       "      <td>[1.0, 0.0]</td>\n",
       "    </tr>\n",
       "    <tr>\n",
       "      <th>3</th>\n",
       "      <td>0.0</td>\n",
       "      <td>[9.173, 13.86, 59.2, 260.9, 0.07721, 0.08751, ...</td>\n",
       "      <td>[1915.3408111862898, -1915.3408111862898]</td>\n",
       "      <td>0.0</td>\n",
       "      <td>[1.0, 0.0]</td>\n",
       "    </tr>\n",
       "    <tr>\n",
       "      <th>4</th>\n",
       "      <td>0.0</td>\n",
       "      <td>[9.268, 12.87, 61.49, 248.7, 0.1634, 0.2239, 0...</td>\n",
       "      <td>[1894.8310544848177, -1894.8310544848177]</td>\n",
       "      <td>0.0</td>\n",
       "      <td>[1.0, 0.0]</td>\n",
       "    </tr>\n",
       "  </tbody>\n",
       "</table>\n",
       "</div>"
      ],
      "text/plain": [
       "   diag                                           features   \n",
       "0   0.0  [7.691, 25.44, 48.34, 170.4, 0.08668, 0.1199, ...  \\\n",
       "1   0.0  [8.671, 14.45, 54.42, 227.2, 0.09138, 0.04276,...   \n",
       "2   0.0  [9.042, 18.9, 60.07, 244.5, 0.09968, 0.1972, 0...   \n",
       "3   0.0  [9.173, 13.86, 59.2, 260.9, 0.07721, 0.08751, ...   \n",
       "4   0.0  [9.268, 12.87, 61.49, 248.7, 0.1634, 0.2239, 0...   \n",
       "\n",
       "                               rawPrediction  prediction probability  \n",
       "0  [1244.1925386735306, -1244.1925386735306]         0.0  [1.0, 0.0]  \n",
       "1  [1870.1735935298636, -1870.1735935298636]         0.0  [1.0, 0.0]  \n",
       "2  [1421.2520670213075, -1421.2520670213075]         0.0  [1.0, 0.0]  \n",
       "3  [1915.3408111862898, -1915.3408111862898]         0.0  [1.0, 0.0]  \n",
       "4  [1894.8310544848177, -1894.8310544848177]         0.0  [1.0, 0.0]  "
      ]
     },
     "execution_count": 32,
     "metadata": {},
     "output_type": "execute_result"
    }
   ],
   "source": [
    "predictions_lrc.select('diag','features','rawPrediction','prediction','probability').toPandas().head(5)"
   ]
  },
  {
   "cell_type": "markdown",
   "id": "7fda14fb",
   "metadata": {},
   "source": [
    "#### Avaliação do Modelo"
   ]
  },
  {
   "cell_type": "code",
   "execution_count": 33,
   "id": "b18807c1",
   "metadata": {},
   "outputs": [],
   "source": [
    "evaluator_lrc = MulticlassClassificationEvaluator(predictionCol = 'prediction', labelCol = 'diag', metricName = 'accuracy')"
   ]
  },
  {
   "cell_type": "code",
   "execution_count": 34,
   "id": "a1bdc179",
   "metadata": {},
   "outputs": [
    {
     "data": {
      "text/plain": [
       "0.9485714285714286"
      ]
     },
     "execution_count": 34,
     "metadata": {},
     "output_type": "execute_result"
    }
   ],
   "source": [
    "evaluator_lrc.evaluate(predictions_lrc)"
   ]
  },
  {
   "cell_type": "markdown",
   "id": "3f2ecd40",
   "metadata": {},
   "source": [
    "#### Confusion Matrix"
   ]
  },
  {
   "cell_type": "code",
   "execution_count": 53,
   "id": "b05de64e",
   "metadata": {},
   "outputs": [
    {
     "name": "stdout",
     "output_type": "stream",
     "text": [
      "+----+----------+-----+\n",
      "|diag|prediction|count|\n",
      "+----+----------+-----+\n",
      "| 1.0|       1.0|   68|\n",
      "| 0.0|       1.0|    3|\n",
      "| 1.0|       0.0|    6|\n",
      "| 0.0|       0.0|   98|\n",
      "+----+----------+-----+\n",
      "\n"
     ]
    }
   ],
   "source": [
    "predictions_lrc.groupBy('diag', 'prediction').count().show()"
   ]
  },
  {
   "cell_type": "code",
   "execution_count": 54,
   "id": "f3dd0ecc",
   "metadata": {},
   "outputs": [
    {
     "data": {
      "text/html": [
       "<div>\n",
       "<style scoped>\n",
       "    .dataframe tbody tr th:only-of-type {\n",
       "        vertical-align: middle;\n",
       "    }\n",
       "\n",
       "    .dataframe tbody tr th {\n",
       "        vertical-align: top;\n",
       "    }\n",
       "\n",
       "    .dataframe thead th {\n",
       "        text-align: right;\n",
       "    }\n",
       "</style>\n",
       "<table border=\"1\" class=\"dataframe\">\n",
       "  <thead>\n",
       "    <tr style=\"text-align: right;\">\n",
       "      <th></th>\n",
       "      <th>diag</th>\n",
       "      <th>prediction</th>\n",
       "      <th>count</th>\n",
       "    </tr>\n",
       "  </thead>\n",
       "  <tbody>\n",
       "    <tr>\n",
       "      <th>0</th>\n",
       "      <td>1.0</td>\n",
       "      <td>1.0</td>\n",
       "      <td>68</td>\n",
       "    </tr>\n",
       "    <tr>\n",
       "      <th>1</th>\n",
       "      <td>0.0</td>\n",
       "      <td>1.0</td>\n",
       "      <td>3</td>\n",
       "    </tr>\n",
       "    <tr>\n",
       "      <th>2</th>\n",
       "      <td>1.0</td>\n",
       "      <td>0.0</td>\n",
       "      <td>6</td>\n",
       "    </tr>\n",
       "    <tr>\n",
       "      <th>3</th>\n",
       "      <td>0.0</td>\n",
       "      <td>0.0</td>\n",
       "      <td>98</td>\n",
       "    </tr>\n",
       "  </tbody>\n",
       "</table>\n",
       "</div>"
      ],
      "text/plain": [
       "   diag  prediction  count\n",
       "0   1.0         1.0     68\n",
       "1   0.0         1.0      3\n",
       "2   1.0         0.0      6\n",
       "3   0.0         0.0     98"
      ]
     },
     "execution_count": 54,
     "metadata": {},
     "output_type": "execute_result"
    }
   ],
   "source": [
    "predictions_lrc.groupBy('diag', 'prediction').count().toPandas()"
   ]
  },
  {
   "cell_type": "markdown",
   "id": "9c1b5a6c",
   "metadata": {},
   "source": [
    "### Criando o segundo Modelo: V2\n",
    "Decision Tree Classifier [Link](https://spark.apache.org/docs/latest/api/python/reference/api/pyspark.ml.classification.DecisionTreeClassifier.html#pyspark.ml.classification.DecisionTreeClassifier)"
   ]
  },
  {
   "cell_type": "code",
   "execution_count": 35,
   "id": "5d95587d",
   "metadata": {},
   "outputs": [],
   "source": [
    "dtc = DecisionTreeClassifier(featuresCol = 'features',labelCol = 'diag')"
   ]
  },
  {
   "cell_type": "code",
   "execution_count": 36,
   "id": "097ab141",
   "metadata": {},
   "outputs": [],
   "source": [
    "modelo = dtc.fit(dados_treino) # Treinamento"
   ]
  },
  {
   "cell_type": "code",
   "execution_count": 37,
   "id": "71cc9373",
   "metadata": {},
   "outputs": [
    {
     "data": {
      "text/plain": [
       "5"
      ]
     },
     "execution_count": 37,
     "metadata": {},
     "output_type": "execute_result"
    }
   ],
   "source": [
    "modelo.depth"
   ]
  },
  {
   "cell_type": "code",
   "execution_count": 38,
   "id": "916f5355",
   "metadata": {},
   "outputs": [
    {
     "data": {
      "text/plain": [
       "29"
      ]
     },
     "execution_count": 38,
     "metadata": {},
     "output_type": "execute_result"
    }
   ],
   "source": [
    "modelo.numNodes"
   ]
  },
  {
   "cell_type": "code",
   "execution_count": 39,
   "id": "b3d2b0f1",
   "metadata": {},
   "outputs": [],
   "source": [
    "predictions_dtc = modelo.transform(dados_teste)"
   ]
  },
  {
   "cell_type": "code",
   "execution_count": 40,
   "id": "97cabe8a",
   "metadata": {},
   "outputs": [
    {
     "name": "stdout",
     "output_type": "stream",
     "text": [
      "-RECORD 0---------------------------------------\n",
      " diagnosis               | B                    \n",
      " radius_mean             | 7.691                \n",
      " texture_mean            | 25.44                \n",
      " perimeter_mean          | 48.34                \n",
      " area_mean               | 170.4                \n",
      " smoothness_mean         | 0.08668              \n",
      " compactness_mean        | 0.1199               \n",
      " concavity_mean          | 0.09252              \n",
      " concave points_mean     | 0.01364              \n",
      " symmetry_mean           | 0.2037               \n",
      " fractal_dimension_mean  | 0.07751              \n",
      " radius_se               | 0.2196               \n",
      " texture_se              | 1.479                \n",
      " perimeter_se            | 1.445                \n",
      " area_se                 | 11.73                \n",
      " smoothness_se           | 0.01547              \n",
      " compactness_se          | 0.06457              \n",
      " concavity_se            | 0.09252              \n",
      " concave points_se       | 0.01364              \n",
      " symmetry_se             | 0.02105              \n",
      " fractal_dimension_se    | 0.007551             \n",
      " radius_worst            | 8.678                \n",
      " texture_worst           | 31.89                \n",
      " perimeter_worst         | 54.49                \n",
      " area_worst              | 223.6                \n",
      " smoothness_worst        | 0.1596               \n",
      " compactness_worst       | 0.3064               \n",
      " concavity_worst         | 0.3393               \n",
      " concave points_worst    | 0.05                 \n",
      " symmetry_worst          | 0.279                \n",
      " fractal_dimension_worst | 0.1066               \n",
      " diag                    | 0.0                  \n",
      " features                | [7.691,25.44,48.3... \n",
      " standardized            | [2.18243287175645... \n",
      " rawPrediction           | [220.0,2.0]          \n",
      " probability             | [0.99099099099099... \n",
      " prediction              | 0.0                  \n",
      "only showing top 1 row\n",
      "\n"
     ]
    }
   ],
   "source": [
    "predictions_dtc.show(1, vertical = True)"
   ]
  },
  {
   "cell_type": "code",
   "execution_count": 41,
   "id": "156d9e03",
   "metadata": {},
   "outputs": [
    {
     "name": "stdout",
     "output_type": "stream",
     "text": [
      "+----+----------+--------------------+-------------+--------------------+\n",
      "|diag|prediction|            features|rawPrediction|         probability|\n",
      "+----+----------+--------------------+-------------+--------------------+\n",
      "| 0.0|       0.0|[7.691,25.44,48.3...|  [220.0,2.0]|[0.99099099099099...|\n",
      "| 0.0|       0.0|[8.671,14.45,54.4...|  [220.0,2.0]|[0.99099099099099...|\n",
      "| 0.0|       0.0|[9.042,18.9,60.07...|  [220.0,2.0]|[0.99099099099099...|\n",
      "| 0.0|       0.0|[9.173,13.86,59.2...|  [220.0,2.0]|[0.99099099099099...|\n",
      "| 0.0|       0.0|[9.268,12.87,61.4...|  [220.0,2.0]|[0.99099099099099...|\n",
      "+----+----------+--------------------+-------------+--------------------+\n",
      "only showing top 5 rows\n",
      "\n"
     ]
    }
   ],
   "source": [
    "predictions_dtc.select('diag','prediction','features','rawPrediction','probability').show(5)"
   ]
  },
  {
   "cell_type": "markdown",
   "id": "e0ef2f95",
   "metadata": {},
   "source": [
    "#### Avaliação do Modelo"
   ]
  },
  {
   "cell_type": "code",
   "execution_count": 42,
   "id": "733be9a6",
   "metadata": {},
   "outputs": [
    {
     "data": {
      "text/plain": [
       "0.92"
      ]
     },
     "execution_count": 42,
     "metadata": {},
     "output_type": "execute_result"
    }
   ],
   "source": [
    "avaliador = MulticlassClassificationEvaluator(predictionCol = 'prediction', labelCol = 'diag', metricName = 'accuracy')\n",
    "avaliador.evaluate(predictions_dtc)"
   ]
  },
  {
   "cell_type": "markdown",
   "id": "643fe1bc",
   "metadata": {},
   "source": [
    "#### Confusion Matrix"
   ]
  },
  {
   "cell_type": "code",
   "execution_count": 52,
   "id": "5fc7e860",
   "metadata": {},
   "outputs": [
    {
     "name": "stdout",
     "output_type": "stream",
     "text": [
      "+----+----------+-----+\n",
      "|diag|prediction|count|\n",
      "+----+----------+-----+\n",
      "| 1.0|       1.0|   67|\n",
      "| 0.0|       1.0|    7|\n",
      "| 1.0|       0.0|    7|\n",
      "| 0.0|       0.0|   94|\n",
      "+----+----------+-----+\n",
      "\n"
     ]
    }
   ],
   "source": [
    "predictions_dtc.groupBy('diag', 'prediction').count().show()"
   ]
  },
  {
   "cell_type": "markdown",
   "id": "130678d7",
   "metadata": {},
   "source": [
    "### Criando o terceiro Modelo: V3\n",
    "Random Forest Classifier [Aqui](https://spark.apache.org/docs/latest/api/python/reference/api/pyspark.ml.classification.RandomForestClassifier.html#pyspark.ml.classification.RandomForestClassifier)"
   ]
  },
  {
   "cell_type": "code",
   "execution_count": 43,
   "id": "6647af49",
   "metadata": {},
   "outputs": [],
   "source": [
    "rfClassifier = RandomForestClassifier(featuresCol = 'features', labelCol = 'diag')"
   ]
  },
  {
   "cell_type": "code",
   "execution_count": 44,
   "id": "ce0421e0",
   "metadata": {},
   "outputs": [],
   "source": [
    "# Treinando o modelo\n",
    "\n",
    "modelo_rf = rfClassifier.fit(dados_treino)"
   ]
  },
  {
   "cell_type": "code",
   "execution_count": 45,
   "id": "fe6854d9",
   "metadata": {},
   "outputs": [],
   "source": [
    "# Realizando previsões\n",
    "\n",
    "previsoes_rf = modelo.transform(dados_teste)"
   ]
  },
  {
   "cell_type": "code",
   "execution_count": 51,
   "id": "fd707d3b",
   "metadata": {},
   "outputs": [
    {
     "name": "stdout",
     "output_type": "stream",
     "text": [
      "-RECORD 0---------------------------------------\n",
      " diagnosis               | B                    \n",
      " radius_mean             | 7.691                \n",
      " texture_mean            | 25.44                \n",
      " perimeter_mean          | 48.34                \n",
      " area_mean               | 170.4                \n",
      " smoothness_mean         | 0.08668              \n",
      " compactness_mean        | 0.1199               \n",
      " concavity_mean          | 0.09252              \n",
      " concave points_mean     | 0.01364              \n",
      " symmetry_mean           | 0.2037               \n",
      " fractal_dimension_mean  | 0.07751              \n",
      " radius_se               | 0.2196               \n",
      " texture_se              | 1.479                \n",
      " perimeter_se            | 1.445                \n",
      " area_se                 | 11.73                \n",
      " smoothness_se           | 0.01547              \n",
      " compactness_se          | 0.06457              \n",
      " concavity_se            | 0.09252              \n",
      " concave points_se       | 0.01364              \n",
      " symmetry_se             | 0.02105              \n",
      " fractal_dimension_se    | 0.007551             \n",
      " radius_worst            | 8.678                \n",
      " texture_worst           | 31.89                \n",
      " perimeter_worst         | 54.49                \n",
      " area_worst              | 223.6                \n",
      " smoothness_worst        | 0.1596               \n",
      " compactness_worst       | 0.3064               \n",
      " concavity_worst         | 0.3393               \n",
      " concave points_worst    | 0.05                 \n",
      " symmetry_worst          | 0.279                \n",
      " fractal_dimension_worst | 0.1066               \n",
      " diag                    | 0.0                  \n",
      " features                | [7.691,25.44,48.3... \n",
      " standardized            | [2.18243287175645... \n",
      " rawPrediction           | [220.0,2.0]          \n",
      " probability             | [0.99099099099099... \n",
      " prediction              | 0.0                  \n",
      "only showing top 1 row\n",
      "\n"
     ]
    }
   ],
   "source": [
    "previsoes_rf.show(1, vertical = True)"
   ]
  },
  {
   "cell_type": "code",
   "execution_count": 47,
   "id": "0360f6fc",
   "metadata": {},
   "outputs": [],
   "source": [
    "### Avaliando o Modelo\n",
    "\n",
    "evaluator_rf = MulticlassClassificationEvaluator(predictionCol = 'prediction', labelCol = 'diag', metricName = 'accuracy')"
   ]
  },
  {
   "cell_type": "code",
   "execution_count": 48,
   "id": "0976164e",
   "metadata": {},
   "outputs": [
    {
     "data": {
      "text/plain": [
       "0.92"
      ]
     },
     "execution_count": 48,
     "metadata": {},
     "output_type": "execute_result"
    }
   ],
   "source": [
    "evaluator_rf.evaluate(previsoes_rf)"
   ]
  },
  {
   "cell_type": "markdown",
   "id": "ede4f01a",
   "metadata": {},
   "source": [
    "#### Confusion Matrix"
   ]
  },
  {
   "cell_type": "code",
   "execution_count": 50,
   "id": "31e22912",
   "metadata": {},
   "outputs": [
    {
     "name": "stdout",
     "output_type": "stream",
     "text": [
      "+----+----------+-----+\n",
      "|diag|prediction|count|\n",
      "+----+----------+-----+\n",
      "| 1.0|       1.0|   67|\n",
      "| 0.0|       1.0|    7|\n",
      "| 1.0|       0.0|    7|\n",
      "| 0.0|       0.0|   94|\n",
      "+----+----------+-----+\n",
      "\n"
     ]
    }
   ],
   "source": [
    "previsoes_rf.groupBy('diag', 'prediction').count().show()"
   ]
  },
  {
   "cell_type": "markdown",
   "id": "95fc5acb",
   "metadata": {},
   "source": [
    "<a id=\"6\"></a>\n",
    "# <p style=\"background-color:#714e86;font-family:Segoe UI Semibold;color:#FFF9ED;font-size:150%;text-align:center;border-radius:10px 10px;\">6. PIPELINE: WORKFLOW (EM ANDAMENTO)</p>"
   ]
  },
  {
   "cell_type": "code",
   "execution_count": 58,
   "id": "86056423",
   "metadata": {},
   "outputs": [
    {
     "data": {
      "text/plain": [
       "(414, 155)"
      ]
     },
     "execution_count": 58,
     "metadata": {},
     "output_type": "execute_result"
    }
   ],
   "source": [
    "treino_pipe, teste_pipe = SparkDF.randomSplit([0.7,0.3])\n",
    "treino_pipe.count(), teste_pipe.count()"
   ]
  },
  {
   "cell_type": "code",
   "execution_count": null,
   "id": "8637326f",
   "metadata": {},
   "outputs": [],
   "source": [
    "# Label encoding (variável alvo), Vector Assembler e StandardScaler\n",
    "\n",
    "pipeline = Pipeline(stages = [stringIndexer, Assemb, std])\n",
    "\n",
    "# Treinamento com o Pipeline\n",
    "\n",
    "modelo_pipeline = pipeline.fit(treino_pipe)\n",
    "\n",
    "# Previsões nos dados de Teste\n",
    "\n",
    "previsoes_pipe = modelo.transform(teste_pipe)\n",
    "\n",
    "previsoes_pipe.select('diag', 'probability', 'prediction').show(5, False)"
   ]
  },
  {
   "cell_type": "code",
   "execution_count": null,
   "id": "367f44f8",
   "metadata": {},
   "outputs": [],
   "source": [
    "pipe_evaluator = MulticlassClassificationEvaluator(predictionCol = 'prediction', labelCol = 'diag', metricName = 'accuracy')\n",
    "\n",
    "pipe_evaluator.evaluate(previsoes_pipe)\n",
    "\n",
    "# Resumindo os resultados: Confusion Matrix\n",
    "\n",
    "previsoes.groupBy('label','prediction').count().show()"
   ]
  }
 ],
 "metadata": {
  "kernelspec": {
   "display_name": "Python 3 (ipykernel)",
   "language": "python",
   "name": "python3"
  },
  "language_info": {
   "codemirror_mode": {
    "name": "ipython",
    "version": 3
   },
   "file_extension": ".py",
   "mimetype": "text/x-python",
   "name": "python",
   "nbconvert_exporter": "python",
   "pygments_lexer": "ipython3",
   "version": "3.9.12"
  }
 },
 "nbformat": 4,
 "nbformat_minor": 5
}
